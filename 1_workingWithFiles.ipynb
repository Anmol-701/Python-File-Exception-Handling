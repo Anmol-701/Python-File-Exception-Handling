{
 "cells": [
  {
   "cell_type": "code",
   "execution_count": 28,
   "id": "7e2ff843-f402-4500-b502-8bcadf076b08",
   "metadata": {},
   "outputs": [],
   "source": [
    "f = open(\"test.txt\",'w') ## It will create file named test.txt"
   ]
  },
  {
   "cell_type": "code",
   "execution_count": 17,
   "id": "554fb220-66ad-41e8-964f-eff7112d117a",
   "metadata": {},
   "outputs": [
    {
     "data": {
      "text/plain": [
       "44"
      ]
     },
     "execution_count": 17,
     "metadata": {},
     "output_type": "execute_result"
    }
   ],
   "source": [
    "## To write something in the file\n",
    "f.write(\"This is my first write operation in the file\")"
   ]
  },
  {
   "cell_type": "code",
   "execution_count": 18,
   "id": "23caaed4-179c-4451-af9c-9c15e6fc3b17",
   "metadata": {},
   "outputs": [],
   "source": [
    "f.close()"
   ]
  },
  {
   "cell_type": "code",
   "execution_count": 19,
   "id": "a959ae97-deb6-44d4-b260-d0b4265e158d",
   "metadata": {},
   "outputs": [],
   "source": [
    "## Read operation in File\n",
    "data= open(\"test.txt\",'r')"
   ]
  },
  {
   "cell_type": "code",
   "execution_count": 20,
   "id": "13245c1d-d72c-4e01-8f43-8c802ea55f46",
   "metadata": {},
   "outputs": [
    {
     "data": {
      "text/plain": [
       "'This is my first write operation in the file'"
      ]
     },
     "execution_count": 20,
     "metadata": {},
     "output_type": "execute_result"
    }
   ],
   "source": [
    "data.read()"
   ]
  },
  {
   "cell_type": "code",
   "execution_count": 21,
   "id": "627ca50e-c26c-43a1-a2ea-f3e1bba2b661",
   "metadata": {},
   "outputs": [],
   "source": [
    "## Another way to read a file\n",
    "data1= open(\"test.txt\",'r')"
   ]
  },
  {
   "cell_type": "code",
   "execution_count": 22,
   "id": "43b23c85-20ed-425e-8278-0c75ccb22584",
   "metadata": {},
   "outputs": [
    {
     "name": "stdout",
     "output_type": "stream",
     "text": [
      "This is my first write operation in the file\n"
     ]
    }
   ],
   "source": [
    "for i in data1:\n",
    "    print(i)"
   ]
  },
  {
   "cell_type": "code",
   "execution_count": 23,
   "id": "2fd76e2f-ed93-42c5-a954-0bf51cdf0970",
   "metadata": {},
   "outputs": [
    {
     "data": {
      "text/plain": [
       "44"
      ]
     },
     "execution_count": 23,
     "metadata": {},
     "output_type": "execute_result"
    }
   ],
   "source": [
    "## we can also get the file size\n",
    "import os\n",
    "os.path.getsize(\"test.txt\")"
   ]
  },
  {
   "cell_type": "code",
   "execution_count": 25,
   "id": "45005904-c913-4ee3-a02b-ce37497ba823",
   "metadata": {},
   "outputs": [
    {
     "data": {
      "text/plain": [
       "'new_test.txt'"
      ]
     },
     "execution_count": 25,
     "metadata": {},
     "output_type": "execute_result"
    }
   ],
   "source": [
    "## Creating a copy of particular file\n",
    "import shutil\n",
    "shutil.copy(\"test.txt\",\"new_test.txt\")"
   ]
  },
  {
   "cell_type": "code",
   "execution_count": 29,
   "id": "d1d1cafc-59ff-4227-b290-d4d0036bfc15",
   "metadata": {},
   "outputs": [],
   "source": [
    "# To delete a file\n",
    "os.remove(\"test.txt\")"
   ]
  },
  {
   "cell_type": "code",
   "execution_count": 30,
   "id": "8ab04c92-a730-4f6e-a0e9-7fc5a17dc675",
   "metadata": {},
   "outputs": [],
   "source": [
    "## To rename a file\n",
    "os.rename(\"new_test.txt\",\"test1.txt\")"
   ]
  },
  {
   "cell_type": "code",
   "execution_count": null,
   "id": "bdf37dff-3213-4615-9cb4-defbda37f66f",
   "metadata": {},
   "outputs": [],
   "source": []
  }
 ],
 "metadata": {
  "kernelspec": {
   "display_name": "Python 3 (ipykernel)",
   "language": "python",
   "name": "python3"
  },
  "language_info": {
   "codemirror_mode": {
    "name": "ipython",
    "version": 3
   },
   "file_extension": ".py",
   "mimetype": "text/x-python",
   "name": "python",
   "nbconvert_exporter": "python",
   "pygments_lexer": "ipython3",
   "version": "3.10.8"
  }
 },
 "nbformat": 4,
 "nbformat_minor": 5
}
