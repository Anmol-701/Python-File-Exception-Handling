{
 "cells": [
  {
   "cell_type": "code",
   "execution_count": 3,
   "id": "f2b29c02-67e7-49c2-b850-c8e540615294",
   "metadata": {},
   "outputs": [],
   "source": [
    "data = {\n",
    "    \"name\" : \"anmol\",\n",
    "    \"mail-id\" : \"anmol@gmail.com\",\n",
    "    \"phone_number\": 98735334,\n",
    "    \"subject\": [\"data science\",\"big-data\",\"data analytics\"]\n",
    "}"
   ]
  },
  {
   "cell_type": "code",
   "execution_count": 4,
   "id": "2b5db32a-da00-45e1-b672-358239ffdcdc",
   "metadata": {},
   "outputs": [],
   "source": [
    "import json"
   ]
  },
  {
   "cell_type": "code",
   "execution_count": 6,
   "id": "9f4fd0fe-e197-4426-82df-c3f2e2755a63",
   "metadata": {},
   "outputs": [],
   "source": [
    "# To store dictionary type of data in a file\n",
    "with open(\"test1.json\",'w') as f:\n",
    "    json.dump(data,f)"
   ]
  },
  {
   "cell_type": "code",
   "execution_count": 7,
   "id": "f0709ea6-c5cc-4995-8109-db42e503adc4",
   "metadata": {},
   "outputs": [],
   "source": [
    "## Reading a json file\n",
    "with open(\"test1.json\",'r') as f:\n",
    "    data1=json.load(f)"
   ]
  },
  {
   "cell_type": "code",
   "execution_count": 8,
   "id": "547c9e94-2ccd-4f32-9543-afcabd4689a1",
   "metadata": {},
   "outputs": [
    {
     "data": {
      "text/plain": [
       "{'name': 'anmol',\n",
       " 'mail-id': 'anmol@gmail.com',\n",
       " 'phone_number': 98735334,\n",
       " 'subject': ['data science', 'big-data', 'data analytics']}"
      ]
     },
     "execution_count": 8,
     "metadata": {},
     "output_type": "execute_result"
    }
   ],
   "source": [
    "data1"
   ]
  },
  {
   "cell_type": "code",
   "execution_count": 9,
   "id": "5dd87289-caae-4019-af66-70b134abc7d3",
   "metadata": {},
   "outputs": [
    {
     "data": {
      "text/plain": [
       "'big-data'"
      ]
     },
     "execution_count": 9,
     "metadata": {},
     "output_type": "execute_result"
    }
   ],
   "source": [
    "data1['subject'][1]"
   ]
  },
  {
   "cell_type": "code",
   "execution_count": 10,
   "id": "c76091e2-5880-4351-8709-75df51b1aabe",
   "metadata": {},
   "outputs": [],
   "source": [
    "data = [[\"name\",\"email_id\",\"number\"],\n",
    "        [\"sudh\",\"sudh@gmail.com\",9382742],\n",
    "       [\"krish\",\"krish@gmail.com\",9832321]\n",
    "       ]"
   ]
  },
  {
   "cell_type": "code",
   "execution_count": 14,
   "id": "ebc1a85e-2356-44eb-bf78-ea664dff5d5c",
   "metadata": {},
   "outputs": [],
   "source": [
    "import csv"
   ]
  },
  {
   "cell_type": "code",
   "execution_count": 16,
   "id": "a9ba1118-0b3b-4695-9bad-3f9a58594750",
   "metadata": {},
   "outputs": [],
   "source": [
    "# storing a comma separated values in particular format\n",
    "with open (\"test3.csv\",'w') as f:\n",
    "    w=csv.writer(f)\n",
    "    for i in data:\n",
    "        w.writerow(i)"
   ]
  },
  {
   "cell_type": "code",
   "execution_count": 19,
   "id": "9515c3e1-2678-46e9-abd3-4ff56da90923",
   "metadata": {},
   "outputs": [
    {
     "name": "stdout",
     "output_type": "stream",
     "text": [
      "['name', 'email_id', 'number']\n",
      "['sudh', 'sudh@gmail.com', '9382742']\n",
      "['krish', 'krish@gmail.com', '9832321']\n"
     ]
    }
   ],
   "source": [
    "## Data read operation in csv\n",
    "with open(\"test3.csv\",'r') as f:\n",
    "    read = csv.reader(f)\n",
    "    for i in read:\n",
    "        print(i)"
   ]
  },
  {
   "cell_type": "code",
   "execution_count": 21,
   "id": "657d8aac-bf9e-46da-b740-a060b55eeb84",
   "metadata": {},
   "outputs": [],
   "source": [
    "## To write Binary type of data\n",
    "with open(\"test4.bin\",'wb') as f:\n",
    "    f.write(b\"\\x01\\x02\\x03\")"
   ]
  },
  {
   "cell_type": "code",
   "execution_count": 22,
   "id": "963673aa-e402-4b3e-b17f-4d6f2422639f",
   "metadata": {},
   "outputs": [
    {
     "name": "stdout",
     "output_type": "stream",
     "text": [
      "b'\\x01\\x02\\x03'\n"
     ]
    }
   ],
   "source": [
    "## To read binary type of data\n",
    "with open(\"test4.bin\",'rb') as f:\n",
    "    print(f.read())"
   ]
  },
  {
   "cell_type": "code",
   "execution_count": null,
   "id": "a11f14b3-ea65-4554-9acf-b9f3eb132f2e",
   "metadata": {},
   "outputs": [],
   "source": []
  }
 ],
 "metadata": {
  "kernelspec": {
   "display_name": "Python 3 (ipykernel)",
   "language": "python",
   "name": "python3"
  },
  "language_info": {
   "codemirror_mode": {
    "name": "ipython",
    "version": 3
   },
   "file_extension": ".py",
   "mimetype": "text/x-python",
   "name": "python",
   "nbconvert_exporter": "python",
   "pygments_lexer": "ipython3",
   "version": "3.10.8"
  }
 },
 "nbformat": 4,
 "nbformat_minor": 5
}
