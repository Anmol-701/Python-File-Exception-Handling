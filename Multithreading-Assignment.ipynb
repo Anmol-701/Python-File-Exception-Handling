{
 "cells": [
  {
   "cell_type": "markdown",
   "id": "de2190dd-088d-4e10-aca1-9416a8dd9f18",
   "metadata": {},
   "source": [
    "### Problem_1: What is multithreading in python? Why is it used? Name the module used to handle threads in python."
   ]
  },
  {
   "cell_type": "markdown",
   "id": "63ed0917-7721-49f1-9924-7930a0f6f13d",
   "metadata": {},
   "source": [
    "  - Multithreading in Python refers to the concurrent execution of multiple threads within a single program. A thread is a lightweight process that can run concurrently with other threads, sharing the same memory space and resources of the parent process. \n",
    "  - Threads are particularly useful in scenarios where there are tasks that can be executed independently or in parallel, such as performing I/O operations, handling multiple client connections\n",
    "  - The module used to handle threads in Python is the `threading` module. It provides classes and functions to create, manage, and synchronize threads in Python programs.\n",
    "  - The threading module provides a high-level interface and abstractions for working with threads, making it easier to create and control threads, synchronize their execution, and communicate between threads.\n",
    "  - To use threading we need to import it into our python program:\n",
    "  `import threading`"
   ]
  },
  {
   "cell_type": "markdown",
   "id": "4b0f1730-500f-4542-8e6b-b4201f194534",
   "metadata": {},
   "source": [
    "### Problem_2: Why threading module used? Write the use of the following function.\n",
    "1. activeCount()\n",
    "2. currentThread()\n",
    "3. enumerate()"
   ]
  },
  {
   "cell_type": "markdown",
   "id": "e343a543-a3f1-4556-8530-c764d6adc51f",
   "metadata": {},
   "source": [
    "  - The threading module in Python is used to handle threads and provides a high-level interface for creating, managing, and synchronizing threads in a Python program.\n",
    "  - It offers various functions and classes to control the behavior of threads and facilitate concurrent execution.\n",
    "  \n",
    "`1. activaCount():` This function can be useful for monitoring the number of active threads in a program.  \n",
    "`2. currentThread():` This can be useful for identifying the current thread, accessing its properties, or performing thread-specific operations.  \n",
    "`3. enumerate():` This function returns a list of all Thread objects currently alive. Each element in the list represents a running or runnable thread."
   ]
  },
  {
   "cell_type": "markdown",
   "id": "9954c67f-a84c-44b1-9fd8-65706bf54f81",
   "metadata": {},
   "source": [
    "### Problem_3: Explain the following function:\n",
    "1. run() \n",
    "2. start()  \n",
    "3. join()\n",
    "4. isAlive()"
   ]
  },
  {
   "cell_type": "markdown",
   "id": "62127e48-bac6-40e8-92c7-ef32d86357de",
   "metadata": {},
   "source": [
    "`1. run():` This function is responsible for the entry point of the thread's execution. It defines the behavior of the thread when it is started using the start() method. By default, the run() function of a Thread object does nothing.   \n",
    "`2.start(): `This function is used to start the execution of a thread. It creates a new thread and calls the run() method of the Thread object in a separate thread of control.  \n",
    "`3. join(): `  This function is used to wait for a thread to complete its execution. When join() is called on a Thread object, the calling thread is blocked until the target thread has finished executing. This is particularly useful when you want to wait for a thread to complete before proceeding with further operations.  \n",
    "`4. isAlive(): ` This function is used to check if a thread is currently alive or running. It returns a Boolean value indicating whether the thread is active or not."
   ]
  },
  {
   "cell_type": "markdown",
   "id": "687b6168-346f-4bb2-90d3-c3e1bc35bc01",
   "metadata": {},
   "source": [
    "### Problem_4: Write a python program to create a two threads. Thread one must print the list of squares and thread two must print the list of cubes."
   ]
  },
  {
   "cell_type": "code",
   "execution_count": 9,
   "id": "ab2c8148-b2f5-41c6-895f-b0635b8fa980",
   "metadata": {},
   "outputs": [
    {
     "name": "stdout",
     "output_type": "stream",
     "text": [
      "Square: 1\n",
      "Square: 4\n",
      "Square: 9\n",
      "Square: 16\n",
      "Square: 25\n",
      "Square: 36\n",
      "Square: 49\n",
      "Square: 64\n",
      "Square: 81\n",
      "Square: 100\n",
      "Cube: 1\n",
      "Cube: 8\n",
      "Cube: 27\n",
      "Cube: 64\n",
      "Cube: 125\n",
      "Cube: 216\n",
      "Cube: 343\n",
      "Cube: 512\n",
      "Cube: 729\n",
      "Cube: 1000\n",
      "Main Thread exits\n"
     ]
    }
   ],
   "source": [
    "import threading\n",
    "\n",
    "\n",
    "def print_squares():\n",
    "    squares = [num ** 2 for num in range(1, 11)]\n",
    "    for square in squares:\n",
    "        print(\"Square:\", square)\n",
    "\n",
    "def print_cubes():\n",
    "    cubes = [num ** 3 for num in range(1, 11)]\n",
    "    for cube in cubes:\n",
    "        print(\"Cube:\", cube)\n",
    "\n",
    "# Creating first thread for printing squares\n",
    "thread_1=threading.Thread(target=print_squares)\n",
    "\n",
    "# Creating second thread for printing cubes\n",
    "thread_2=threading.Thread(target=print_cubes)\n",
    "\n",
    "# Start both threads\n",
    "thread_1.start()\n",
    "thread_2.start()\n",
    "\n",
    "# waiting for thread to complete there execution\n",
    "thread_1.join()\n",
    "thread_2.join()\n",
    "\n",
    "print(\"Main Thread exits\")\n",
    "\n",
    "\n",
    "        "
   ]
  },
  {
   "cell_type": "markdown",
   "id": "4c3833ec-825b-45ec-b5d5-d477be408362",
   "metadata": {},
   "source": [
    "### Problem_5: State advantages and disadvantages of multithreading."
   ]
  },
  {
   "cell_type": "markdown",
   "id": "973e9408-0a09-4f3a-aa11-b470960c3f66",
   "metadata": {},
   "source": [
    "### Advantages:\n",
    "  - Multithreading allows for concurrent execution of multiple tasks within a single program, resulting in improved responsiveness.\n",
    "  - Multithreading can lead to improved performance by utilizing the available CPU resources more efficiently. By dividing a program into multiple threads, it can take advantage of parallelism and execute tasks concurrently.\n",
    "  - Threads within a process share the same memory space and resources, allowing for easy sharing of data and communication between threads.\n",
    "  - Multithreading can simplify the design and implementation of complex programs by dividing them into smaller, manageable units of work.\n",
    "  \n",
    "### Disadantages:\n",
    "  - Care must be taken to ensure that shared data is accessed and modified safely to avoid issues like race conditions, deadlocks, and data inconsistencies.\n",
    "  - Synchronization mechanisms, such as locks or semaphores, may be required, which can increase the complexity of the code.\n",
    "  - Multithreading can consume more system resources compared to a single-threaded program. Each thread requires its own stack space, and thread creation and management overhead can be relatively high.\n",
    "  - It requires careful design and implementation to avoid data corruption or unexpected behavior due to concurrent access to shared resources."
   ]
  },
  {
   "cell_type": "markdown",
   "id": "0868a8e1-19eb-4969-b00b-f8ff36ea1ac6",
   "metadata": {},
   "source": [
    "### Problem_6: Explain deadloaks and race conditions"
   ]
  },
  {
   "cell_type": "markdown",
   "id": "ff93b7bc-48a5-49c6-ab2c-cd8a0e1c1b5a",
   "metadata": {},
   "source": [
    "### Deadlocks:\n",
    "  - A deadlock occurs in a multithreaded or multiprocess environment when two or more threads or processes are indefinitely blocked, waiting for each other to release resources that they hold. In other words, a deadlock is a situation where a group of processes or threads are unable to proceed because each is waiting for a resource that's held by another process or thread in the same group.\n",
    "  \n",
    "### Race Conditions:\n",
    "  - A race condition occurs when multiple threads or processes access and manipulate shared data concurrently, resulting in unpredictable and undesired behavior. It arises when the outcome of the execution depends on the relative timing or interleaving of operations performed by different threads/processes."
   ]
  }
 ],
 "metadata": {
  "kernelspec": {
   "display_name": "Python 3 (ipykernel)",
   "language": "python",
   "name": "python3"
  },
  "language_info": {
   "codemirror_mode": {
    "name": "ipython",
    "version": 3
   },
   "file_extension": ".py",
   "mimetype": "text/x-python",
   "name": "python",
   "nbconvert_exporter": "python",
   "pygments_lexer": "ipython3",
   "version": "3.10.8"
  }
 },
 "nbformat": 4,
 "nbformat_minor": 5
}
