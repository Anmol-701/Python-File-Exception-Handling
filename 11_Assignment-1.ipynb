{
 "cells": [
  {
   "cell_type": "markdown",
   "id": "e4106c09-af5d-4dcd-a8f2-65a02e109261",
   "metadata": {},
   "source": [
    "### Problem_1: What is an Exception in python? Write the difference between Exception and syntax error "
   ]
  },
  {
   "cell_type": "markdown",
   "id": "a2a3ec26-3ba0-4c15-a4c5-130178bc145c",
   "metadata": {},
   "source": [
    "  - An exception is an event that occurs during the execution of a program that disrupts the normal flow of instructions.\n",
    "  - Exceptions can occur due to various reasons, such as invalid input, file not found, divide by zero, or any other runtime error.\n",
    "\n",
    "### Syntax_Error:\n",
    "  - A syntax error occurs when the code violates the rules of the Python language's syntax. It happens when there are mistakes in the way the code is written such as missing parenthesis\n",
    "### Exception:\n",
    "  - An exception occurs when the code is syntactically correct but encounters an error or exceptional condition during its execution. Exceptions can be raised by the Python interpreter or explicitly raised by the programmer using the raise keyword. \n",
    "  - Exceptions can include errors like division by zero, accessing an undefined variable, or attempting to open a non-existent file."
   ]
  },
  {
   "cell_type": "code",
   "execution_count": 3,
   "id": "145d996c-8bb9-40ba-88a3-d97882424727",
   "metadata": {},
   "outputs": [
    {
     "name": "stdout",
     "output_type": "stream",
     "text": [
      "Error: Division by zero.\n"
     ]
    }
   ],
   "source": [
    "## Example of Syntax error \n",
    "# print(\"Hello world\" -->This will give an error\n",
    "\n",
    "## Example of Exception\n",
    "var_1 = 10\n",
    "var_2 = 0\n",
    "\n",
    "try:\n",
    "    result = var_1 / var_2  # Division by zero\n",
    "    print(result)\n",
    "except ZeroDivisionError:\n",
    "    print(\"Error: Division by zero.\")"
   ]
  },
  {
   "cell_type": "markdown",
   "id": "c3382005-097c-4984-8c85-8ddf83d2f09a",
   "metadata": {},
   "source": [
    "### Problem_2: What happens when an exception is not handled? Explain with an example."
   ]
  },
  {
   "cell_type": "markdown",
   "id": "c12be299-ba67-48a3-a6cc-50f4a700bcef",
   "metadata": {},
   "source": [
    "  - When an exception is not handled in Python, it leads to an abnormal termination of the program. The default behavior is for the Python interpreter to print a traceback that shows the exception's details and the line of code where the exception occurred. This traceback provides information about the error and can help in debugging the code."
   ]
  },
  {
   "cell_type": "code",
   "execution_count": 6,
   "id": "fc338861-646a-45ae-910c-cbd4dfcd8a2c",
   "metadata": {},
   "outputs": [
    {
     "ename": "ZeroDivisionError",
     "evalue": "division by zero",
     "output_type": "error",
     "traceback": [
      "\u001b[0;31m---------------------------------------------------------------------------\u001b[0m",
      "\u001b[0;31mZeroDivisionError\u001b[0m                         Traceback (most recent call last)",
      "Cell \u001b[0;32mIn[6], line 5\u001b[0m\n\u001b[1;32m      2\u001b[0m num1 \u001b[38;5;241m=\u001b[39m \u001b[38;5;241m10\u001b[39m\n\u001b[1;32m      3\u001b[0m num2 \u001b[38;5;241m=\u001b[39m \u001b[38;5;241m0\u001b[39m\n\u001b[0;32m----> 5\u001b[0m result \u001b[38;5;241m=\u001b[39m \u001b[43mnum1\u001b[49m\u001b[43m \u001b[49m\u001b[38;5;241;43m/\u001b[39;49m\u001b[43m \u001b[49m\u001b[43mnum2\u001b[49m  \u001b[38;5;66;03m# Division by zero\u001b[39;00m\n\u001b[1;32m      6\u001b[0m \u001b[38;5;28mprint\u001b[39m(result)\n",
      "\u001b[0;31mZeroDivisionError\u001b[0m: division by zero"
     ]
    }
   ],
   "source": [
    "## Here's an example\n",
    "num1 = 10\n",
    "num2 = 0\n",
    "\n",
    "result = num1 / num2  # Division by zero\n",
    "print(result)"
   ]
  },
  {
   "cell_type": "markdown",
   "id": "05ead4fb-19f9-4046-a26c-7ea66f941bbf",
   "metadata": {},
   "source": [
    "### Problem_3: Which Python statement are used to catch and handle exceptions? Explain with an example."
   ]
  },
  {
   "cell_type": "markdown",
   "id": "5b0d5f8c-4b44-448d-a730-5e38e8f37bd9",
   "metadata": {},
   "source": [
    "  - The try-except statement is used to catch and handle exceptions. The try block is used to enclose the code that might raise an exception, and the except block is used to specify the exception(s) that you want to catch and handle."
   ]
  },
  {
   "cell_type": "code",
   "execution_count": 9,
   "id": "5b927daa-da7b-478c-a5f0-d44b776bc4cc",
   "metadata": {},
   "outputs": [
    {
     "name": "stdout",
     "output_type": "stream",
     "text": [
      "Error: division by zero\n"
     ]
    }
   ],
   "source": [
    "try:\n",
    "    num1 = 10\n",
    "    num2 = 0\n",
    "    result = num1 / num2  # Division by zero\n",
    "    print(result)\n",
    "except ZeroDivisionError as e:\n",
    "    print(\"Error:\",e)"
   ]
  },
  {
   "cell_type": "markdown",
   "id": "19b2f865-f3cf-4f1b-b5f5-1b8fe7ccf592",
   "metadata": {},
   "source": [
    "### Problem_4: Explain with an example:\n",
    "   **a.** try and else     \n",
    "   **b.** finally      \n",
    "   **c.** raise"
   ]
  },
  {
   "cell_type": "markdown",
   "id": "bc009410-98d9-4add-a296-ec6ed5ae3cd0",
   "metadata": {},
   "source": [
    "### try and else:\n",
    "  - try block is used to enclose the code that might raise an exception and else block will executed if no exceptions are raised with try block"
   ]
  },
  {
   "cell_type": "code",
   "execution_count": 8,
   "id": "bd10b8c9-b703-4dca-a293-23027e2b1645",
   "metadata": {},
   "outputs": [
    {
     "name": "stdout",
     "output_type": "stream",
     "text": [
      "5.0\n"
     ]
    }
   ],
   "source": [
    "#Example\n",
    "try:\n",
    "    num1 = 10\n",
    "    num2 = 2\n",
    "    result = num1 / num2  # Division by zero\n",
    "except ZeroDivisionError as e:\n",
    "    print(\"Error:\",e)\n",
    "else:\n",
    "    print(result)"
   ]
  },
  {
   "cell_type": "markdown",
   "id": "ee57602e-7167-4145-b3ce-4523e7d13afe",
   "metadata": {},
   "source": [
    "### finally:\n",
    "  - finally block is always executed regardless of outcomes of preceding 'try' and 'except' blocks"
   ]
  },
  {
   "cell_type": "code",
   "execution_count": 2,
   "id": "e1d77839-0dbb-4c23-acf7-53a1ef4121e9",
   "metadata": {},
   "outputs": [
    {
     "name": "stdout",
     "output_type": "stream",
     "text": [
      "Error: File not found.\n"
     ]
    },
    {
     "ename": "NameError",
     "evalue": "name 'file' is not defined",
     "output_type": "error",
     "traceback": [
      "\u001b[0;31m---------------------------------------------------------------------------\u001b[0m",
      "\u001b[0;31mNameError\u001b[0m                                 Traceback (most recent call last)",
      "Cell \u001b[0;32mIn[2], line 9\u001b[0m\n\u001b[1;32m      7\u001b[0m     \u001b[38;5;28mprint\u001b[39m(\u001b[38;5;124m\"\u001b[39m\u001b[38;5;124mError: File not found.\u001b[39m\u001b[38;5;124m\"\u001b[39m)\n\u001b[1;32m      8\u001b[0m \u001b[38;5;28;01mfinally\u001b[39;00m:\n\u001b[0;32m----> 9\u001b[0m     \u001b[43mfile\u001b[49m\u001b[38;5;241m.\u001b[39mclose()  \u001b[38;5;66;03m# Closing the file regardless of whether an exception occurred\u001b[39;00m\n",
      "\u001b[0;31mNameError\u001b[0m: name 'file' is not defined"
     ]
    }
   ],
   "source": [
    "#Example\n",
    "try:\n",
    "    file = open(\"example.txt\", \"r\")\n",
    "    content = file.read()\n",
    "    print(content)\n",
    "except FileNotFoundError:\n",
    "    print(\"Error: File not found.\")\n",
    "finally:\n",
    "    file.close()  # Closing the file regardless of whether an exception occurred"
   ]
  },
  {
   "cell_type": "markdown",
   "id": "302a66c9-7db0-45ae-b27d-a91cd0fc9507",
   "metadata": {},
   "source": [
    "### Raise:\n",
    "  - The raise statement is useful when you want to indicate exceptional conditions in your code explicitly. It allows you to define and raise your own custom exceptions or raise built-in exceptions with specific error messages. By raising exceptions, you can control the flow of your program and provide meaningful error handling and reporting."
   ]
  },
  {
   "cell_type": "code",
   "execution_count": 1,
   "id": "42b1b3a2-6d00-4e1a-b965-02ef2bb38436",
   "metadata": {},
   "outputs": [
    {
     "name": "stdout",
     "output_type": "stream",
     "text": [
      "Error: Division by zero occurred.\n"
     ]
    }
   ],
   "source": [
    "## Example\n",
    "def divide(num1, num2):\n",
    "    if num2 == 0:\n",
    "        raise ZeroDivisionError(\"Error: Division by zero occurred.\")\n",
    "    return num1 / num2\n",
    "\n",
    "try:\n",
    "    result = divide(10, 0)\n",
    "    print(result)\n",
    "except ZeroDivisionError as e:\n",
    "    print(e)"
   ]
  },
  {
   "cell_type": "markdown",
   "id": "9d3191ac-fd6b-4ee5-b308-4da309709619",
   "metadata": {},
   "source": [
    "### Problem_5: What are Custom Exceptions in python? Why do we need Custom Exceptions? Explain with an example."
   ]
  },
  {
   "cell_type": "markdown",
   "id": "2e38eaf7-b736-4c28-9e27-520333a484c9",
   "metadata": {},
   "source": [
    "### Custom_Exceptions:\n",
    "  - Custom exceptions, also known as user-defined exceptions, are exceptions that you create by deriving a new class from the built-in Exception class or any other existing exception class in Python.\n",
    "  - By creating custom exceptions, you can provide more meaningful error messages and handle different types of errors"
   ]
  },
  {
   "cell_type": "code",
   "execution_count": 5,
   "id": "f3e5e480-746d-4613-8dd0-cf03eac67992",
   "metadata": {},
   "outputs": [
    {
     "name": "stdout",
     "output_type": "stream",
     "text": [
      "Error: Negative number is not allowed.\n"
     ]
    }
   ],
   "source": [
    "#Example\n",
    "class InvalidInputError(Exception):\n",
    "    def __init__(self, message):\n",
    "        self.message=message\n",
    "\n",
    "def calculate_square_root(num):\n",
    "    if num < 0:\n",
    "        raise InvalidInputError(\"Error: Negative number is not allowed.\")\n",
    "    return num ** 0.5\n",
    "\n",
    "try:\n",
    "    result = calculate_square_root(-5)\n",
    "    print(result)\n",
    "except InvalidInputError as e:\n",
    "    print(e)"
   ]
  },
  {
   "cell_type": "markdown",
   "id": "4ce55869-0ab5-4473-b218-eb51ffe455bf",
   "metadata": {},
   "source": [
    "### Problem_6: Create a custom exception class. Use this class to handle an exception."
   ]
  },
  {
   "cell_type": "code",
   "execution_count": 7,
   "id": "24734271-acc1-4cc6-88c8-72260b519775",
   "metadata": {},
   "outputs": [
    {
     "name": "stdout",
     "output_type": "stream",
     "text": [
      "Error: Negative number is not allowed.\n"
     ]
    }
   ],
   "source": [
    "class InvalidInputError(Exception):\n",
    "    def __init__(self, message):\n",
    "        self.message=message\n",
    "\n",
    "def calculate_square_root(num):\n",
    "    if num < 0:\n",
    "        raise InvalidInputError(\"Error: Negative number is not allowed.\")\n",
    "    return num ** 0.5\n",
    "\n",
    "try:\n",
    "    result = calculate_square_root(-5)\n",
    "    print(result)\n",
    "except InvalidInputError as e:\n",
    "    print(e)"
   ]
  }
 ],
 "metadata": {
  "kernelspec": {
   "display_name": "Python 3 (ipykernel)",
   "language": "python",
   "name": "python3"
  },
  "language_info": {
   "codemirror_mode": {
    "name": "ipython",
    "version": 3
   },
   "file_extension": ".py",
   "mimetype": "text/x-python",
   "name": "python",
   "nbconvert_exporter": "python",
   "pygments_lexer": "ipython3",
   "version": "3.10.8"
  }
 },
 "nbformat": 4,
 "nbformat_minor": 5
}
