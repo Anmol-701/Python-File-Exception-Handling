{
 "cells": [
  {
   "cell_type": "code",
   "execution_count": 1,
   "id": "cffa033c-4e32-4408-aef9-9772d5850a0c",
   "metadata": {},
   "outputs": [],
   "source": [
    "import threading"
   ]
  },
  {
   "cell_type": "code",
   "execution_count": 3,
   "id": "ae9d4085-024f-4717-b58e-42fe69f48fcb",
   "metadata": {},
   "outputs": [],
   "source": [
    "def test(id):\n",
    "    print(\"This is my test id %d\"%id)"
   ]
  },
  {
   "cell_type": "code",
   "execution_count": 4,
   "id": "28b4d008-7c51-4d9b-80e8-cbb268f20933",
   "metadata": {},
   "outputs": [
    {
     "name": "stdout",
     "output_type": "stream",
     "text": [
      "This is my test id 10\n"
     ]
    }
   ],
   "source": [
    "test(10)"
   ]
  },
  {
   "cell_type": "code",
   "execution_count": 5,
   "id": "1028b160-4979-40d5-aed9-f53783bc8768",
   "metadata": {},
   "outputs": [
    {
     "name": "stdout",
     "output_type": "stream",
     "text": [
      "This is my test id 1\n"
     ]
    }
   ],
   "source": [
    "test(1)"
   ]
  },
  {
   "cell_type": "code",
   "execution_count": 6,
   "id": "aceaeeab-785a-44fd-aa0e-eee1daa68e10",
   "metadata": {},
   "outputs": [],
   "source": [
    "## If we want to execute both test simultaneously than we use threading\n",
    "thread =[threading.Thread(target=test, args=(i,)) for i in [10,1,3]]"
   ]
  },
  {
   "cell_type": "code",
   "execution_count": 7,
   "id": "f4b8afec-cb3c-4094-9264-8e67a9db5e7a",
   "metadata": {},
   "outputs": [
    {
     "data": {
      "text/plain": [
       "[<Thread(Thread-5 (test), initial)>,\n",
       " <Thread(Thread-6 (test), initial)>,\n",
       " <Thread(Thread-7 (test), initial)>]"
      ]
     },
     "execution_count": 7,
     "metadata": {},
     "output_type": "execute_result"
    }
   ],
   "source": [
    "thread"
   ]
  },
  {
   "cell_type": "code",
   "execution_count": 8,
   "id": "da3288f8-f06d-4135-9848-3e2c9c3283ce",
   "metadata": {},
   "outputs": [
    {
     "name": "stdout",
     "output_type": "stream",
     "text": [
      "This is my test id 10\n",
      "This is my test id 1\n",
      "This is my test id 3\n"
     ]
    }
   ],
   "source": [
    "for t in thread:\n",
    "    t.start()"
   ]
  },
  {
   "cell_type": "code",
   "execution_count": 9,
   "id": "33ccf124-1455-4196-b6fd-3f5fdd69ec07",
   "metadata": {},
   "outputs": [],
   "source": [
    "## to Fetch a data from different links\n",
    "import urllib.request\n",
    "\n",
    "def file_download(url, filename):\n",
    "    urllib.request.urlretrieve(url, filename)"
   ]
  },
  {
   "cell_type": "code",
   "execution_count": 11,
   "id": "ff9368e0-1030-41c0-a277-179e7e6a945e",
   "metadata": {},
   "outputs": [],
   "source": [
    "# file_download('',\"test_4.txt\") -->just pass the url from where you want to fetch the data"
   ]
  },
  {
   "cell_type": "code",
   "execution_count": 12,
   "id": "9652ce0b-3c8a-4b3c-9e8e-fdd1266fa68f",
   "metadata": {},
   "outputs": [],
   "source": [
    "# url_list=[] -->create a list of url's"
   ]
  },
  {
   "cell_type": "code",
   "execution_count": 13,
   "id": "0d50fd92-5101-4284-935a-9441b7dce6b9",
   "metadata": {},
   "outputs": [],
   "source": [
    "# data_file_list=[] -->Create a list where u you want to store the fetched data"
   ]
  },
  {
   "cell_type": "code",
   "execution_count": 17,
   "id": "c18335a9-99b2-4430-982e-0871f7e77724",
   "metadata": {},
   "outputs": [],
   "source": [
    "# Creating a thread\n",
    "# thread1= [threading.Thread(target=file_download, args=(url_list[i],data_file_list[i])) for i in range(len(url_list))]  "
   ]
  },
  {
   "cell_type": "code",
   "execution_count": null,
   "id": "980e48b5-95fc-42e9-8de5-dfe89e94715e",
   "metadata": {},
   "outputs": [],
   "source": [
    "# for t in thread1:\n",
    "    # t.start()"
   ]
  },
  {
   "cell_type": "code",
   "execution_count": 27,
   "id": "ceca4e10-d3a0-4ddb-b91c-d45f18a16b85",
   "metadata": {},
   "outputs": [],
   "source": [
    "## --Another Example of threading\n",
    "import time"
   ]
  },
  {
   "cell_type": "code",
   "execution_count": 21,
   "id": "b90faade-8563-40c6-91e7-a65fb6f0b255",
   "metadata": {},
   "outputs": [],
   "source": [
    "def test2(x):\n",
    "    for i in range(10):\n",
    "        print(\"test1 print the value of x %d and print the value of i %d \"%(x,i))\n",
    "        time.sleep(1)"
   ]
  },
  {
   "cell_type": "code",
   "execution_count": 25,
   "id": "7eb59633-e8e3-4f2e-9212-1301d83b7c16",
   "metadata": {},
   "outputs": [],
   "source": [
    "thread2 = [threading.Thread(target=test2,args=(i,)) for i in [100,10,20,5]]"
   ]
  },
  {
   "cell_type": "code",
   "execution_count": 26,
   "id": "c3c353da-bf87-41ae-97cc-4fb03e45a496",
   "metadata": {},
   "outputs": [
    {
     "name": "stdout",
     "output_type": "stream",
     "text": [
      "test1 print the value of x 100 and print the value of i 0 \n",
      "test1 print the value of x 10 and print the value of i 0 \n",
      "test1 print the value of x 20 and print the value of i 0 \n",
      "test1 print the value of x 5 and print the value of i 0 \n",
      "test1 print the value of x 100 and print the value of i 1 \n",
      "test1 print the value of x 10 and print the value of i 1 \n",
      "test1 print the value of x 20 and print the value of i 1 \n",
      "test1 print the value of x 5 and print the value of i 1 \n",
      "test1 print the value of x 100 and print the value of i 2 \n",
      "test1 print the value of x 10 and print the value of i 2 \n",
      "test1 print the value of x 5 and print the value of i 2 \n",
      "test1 print the value of x 20 and print the value of i 2 \n",
      "test1 print the value of x 100 and print the value of i 3 \n",
      "test1 print the value of x 10 and print the value of i 3 \n",
      "test1 print the value of x 5 and print the value of i 3 \n",
      "test1 print the value of x 20 and print the value of i 3 \n",
      "test1 print the value of x 100 and print the value of i 4 \n",
      "test1 print the value of x 10 and print the value of i 4 \n",
      "test1 print the value of x 5 and print the value of i 4 \n",
      "test1 print the value of x 20 and print the value of i 4 \n",
      "test1 print the value of x 100 and print the value of i 5 \n",
      "test1 print the value of x 10 and print the value of i 5 \n",
      "test1 print the value of x 5 and print the value of i 5 \n",
      "test1 print the value of x 20 and print the value of i 5 \n",
      "test1 print the value of x 100 and print the value of i 6 \n",
      "test1 print the value of x 10 and print the value of i 6 \n",
      "test1 print the value of x 20 and print the value of i 6 \n",
      "test1 print the value of x 5 and print the value of i 6 \n",
      "test1 print the value of x 100 and print the value of i 7 \n",
      "test1 print the value of x 10 and print the value of i 7 \n",
      "test1 print the value of x 20 and print the value of i 7 \n",
      "test1 print the value of x 5 and print the value of i 7 \n",
      "test1 print the value of x 100 and print the value of i 8 \n",
      "test1 print the value of x 10 and print the value of i 8 \n",
      "test1 print the value of x 20 and print the value of i 8 \n",
      "test1 print the value of x 5 and print the value of i 8 \n",
      "test1 print the value of x 100 and print the value of i 9 \n",
      "test1 print the value of x 10 and print the value of i 9 \n",
      "test1 print the value of x 20 and print the value of i 9 \n",
      "test1 print the value of x 5 and print the value of i 9 \n"
     ]
    }
   ],
   "source": [
    "for t in thread2:\n",
    "    t.start()"
   ]
  },
  {
   "cell_type": "code",
   "execution_count": 22,
   "id": "e48c82c9-879f-4a30-a94c-870421cfb6b6",
   "metadata": {},
   "outputs": [
    {
     "name": "stdout",
     "output_type": "stream",
     "text": [
      "test1 print the value of x 10 and print the value of i 0 \n",
      "test1 print the value of x 10 and print the value of i 1 \n",
      "test1 print the value of x 10 and print the value of i 2 \n",
      "test1 print the value of x 10 and print the value of i 3 \n",
      "test1 print the value of x 10 and print the value of i 4 \n",
      "test1 print the value of x 10 and print the value of i 5 \n",
      "test1 print the value of x 10 and print the value of i 6 \n",
      "test1 print the value of x 10 and print the value of i 7 \n",
      "test1 print the value of x 10 and print the value of i 8 \n",
      "test1 print the value of x 10 and print the value of i 9 \n"
     ]
    }
   ],
   "source": [
    "test2(10)"
   ]
  },
  {
   "cell_type": "code",
   "execution_count": 37,
   "id": "421e5cfe-a162-4d08-924b-09840b1d2d3f",
   "metadata": {},
   "outputs": [
    {
     "name": "stdout",
     "output_type": "stream",
     "text": [
      "value of x 1 and value of shared_var 1\n",
      "value of x 2 and value of shared_var 2\n",
      "value of x 3 and value of shared_var 3\n",
      "value of x 4 and value of shared_var 4\n",
      "value of x 5 and value of shared_var 5\n"
     ]
    }
   ],
   "source": [
    "## -- Another example of Threading\n",
    "shared_var=0\n",
    "lock_var=threading.Lock()\n",
    "def test3(x):\n",
    "    global  shared_var\n",
    "    with lock_var :\n",
    "        shared_var=shared_var+1\n",
    "    print(\"value of x %d and value of shared_var %d\"%(x,shared_var))\n",
    "    time.sleep(1)\n",
    "thread4=[threading.Thread(target=test3, args=(i,)) for i in [1,2,3,4,5]]\n",
    "for t in thread4:\n",
    "    t.start()"
   ]
  },
  {
   "cell_type": "code",
   "execution_count": 31,
   "id": "c82ac1e7-4e69-4002-8a83-a5ba1aad25f9",
   "metadata": {},
   "outputs": [
    {
     "name": "stdout",
     "output_type": "stream",
     "text": [
      "value of x 1 and value of shared_var 1\n"
     ]
    }
   ],
   "source": [
    "test3(1)"
   ]
  },
  {
   "cell_type": "code",
   "execution_count": 32,
   "id": "95a6be04-f927-4c2c-9539-9e1b7599cefb",
   "metadata": {},
   "outputs": [
    {
     "name": "stdout",
     "output_type": "stream",
     "text": [
      "value of x 2 and value of shared_var 2\n"
     ]
    }
   ],
   "source": [
    "test3(2)"
   ]
  },
  {
   "cell_type": "code",
   "execution_count": null,
   "id": "a882880a-b852-4704-8dd8-631f9a27d068",
   "metadata": {},
   "outputs": [],
   "source": []
  }
 ],
 "metadata": {
  "kernelspec": {
   "display_name": "Python 3 (ipykernel)",
   "language": "python",
   "name": "python3"
  },
  "language_info": {
   "codemirror_mode": {
    "name": "ipython",
    "version": 3
   },
   "file_extension": ".py",
   "mimetype": "text/x-python",
   "name": "python",
   "nbconvert_exporter": "python",
   "pygments_lexer": "ipython3",
   "version": "3.10.8"
  }
 },
 "nbformat": 4,
 "nbformat_minor": 5
}
