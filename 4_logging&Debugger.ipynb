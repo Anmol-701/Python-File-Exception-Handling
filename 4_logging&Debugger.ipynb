{
 "cells": [
  {
   "cell_type": "markdown",
   "id": "3f0a0932-ff8a-4fc3-af2e-3344ec528df9",
   "metadata": {},
   "source": [
    "## Logging:\n",
    "  - As we know, Print function only print the statement on console but whenever we want to save what we are doing "
   ]
  },
  {
   "cell_type": "code",
   "execution_count": 1,
   "id": "fc7e9399-602a-440a-b0af-0cdcf369c650",
   "metadata": {},
   "outputs": [],
   "source": [
    "import logging"
   ]
  },
  {
   "cell_type": "code",
   "execution_count": 26,
   "id": "495bf7c6-12fb-40cd-9b9d-c4d62e3060fc",
   "metadata": {},
   "outputs": [],
   "source": [
    "logging.basicConfig(filename=\"test.log\",level = logging.INFO)"
   ]
  },
  {
   "cell_type": "code",
   "execution_count": 17,
   "id": "9dc3912f-5447-4d41-b783-8544a36abd8c",
   "metadata": {},
   "outputs": [],
   "source": [
    "logging.info(\"This is my line of execution\")"
   ]
  },
  {
   "cell_type": "code",
   "execution_count": 18,
   "id": "47168dd2-4fdf-4493-af22-16e1b30aeeab",
   "metadata": {},
   "outputs": [],
   "source": [
    "logging.error(\"This is my error\")"
   ]
  },
  {
   "cell_type": "code",
   "execution_count": 19,
   "id": "27d3009b-9f74-4437-b5c0-6f79e9ab0a47",
   "metadata": {},
   "outputs": [],
   "source": [
    "logging.critical(\"This is my critical\")"
   ]
  },
  {
   "cell_type": "code",
   "execution_count": 20,
   "id": "f6a7c4fe-b78e-4f26-958a-4aa65452475c",
   "metadata": {},
   "outputs": [],
   "source": [
    "logging.warning(\"This is my Warning\")"
   ]
  },
  {
   "cell_type": "code",
   "execution_count": 21,
   "id": "946145ad-3cde-47d4-aee3-e86f1e2338b5",
   "metadata": {},
   "outputs": [],
   "source": [
    "logging.debug(\"This is my info related to \")"
   ]
  },
  {
   "cell_type": "code",
   "execution_count": 33,
   "id": "376a3148-49a6-4d5b-b3b1-bc261f023501",
   "metadata": {},
   "outputs": [],
   "source": [
    "# logging.noset(\"This is my noset related log\") -->This will give an error"
   ]
  },
  {
   "cell_type": "code",
   "execution_count": 23,
   "id": "4a130ac5-74b9-4596-b3c6-e43b936eb11c",
   "metadata": {},
   "outputs": [],
   "source": [
    "logging.shutdown()"
   ]
  },
  {
   "cell_type": "markdown",
   "id": "f844a3cd-a533-433a-a793-41c269e0fa45",
   "metadata": {},
   "source": [
    "### Levels\n",
    "1. NOSET\n",
    "2. DEBUG\n",
    "3. INFO\n",
    "4. WARNING\n",
    "5. ERROR\n",
    "6. CRITICAL"
   ]
  },
  {
   "cell_type": "code",
   "execution_count": 2,
   "id": "3cc05ec1-3cab-4724-95ac-831ebc8270e2",
   "metadata": {},
   "outputs": [],
   "source": [
    "logging.basicConfig(filename = \"test_1.log\" , level = logging.DEBUG, format = '%(asctime)s %(message)s')"
   ]
  },
  {
   "cell_type": "code",
   "execution_count": 3,
   "id": "321a86bf-8085-4e0f-b874-4bb49791472d",
   "metadata": {},
   "outputs": [],
   "source": [
    "logging.info(\"This is my info log\")"
   ]
  },
  {
   "cell_type": "code",
   "execution_count": 4,
   "id": "31c766ec-dc5e-4ef4-9004-cb0513173079",
   "metadata": {},
   "outputs": [],
   "source": [
    "logging.debug(\"This is my debug log\")"
   ]
  },
  {
   "cell_type": "code",
   "execution_count": 5,
   "id": "ee0373c8-f84b-4e90-957a-36d2884a41b0",
   "metadata": {},
   "outputs": [],
   "source": [
    "logging.warning(\"This is my Warning\")"
   ]
  },
  {
   "cell_type": "code",
   "execution_count": 7,
   "id": "52fd9e65-90b4-444b-a1a6-0ef99948243c",
   "metadata": {},
   "outputs": [],
   "source": [
    "logging.shutdown()"
   ]
  },
  {
   "cell_type": "code",
   "execution_count": 2,
   "id": "8e916b35-0701-48a4-994c-f7d95a73e828",
   "metadata": {},
   "outputs": [],
   "source": [
    "logging.basicConfig(filename = \"test_2.log\", level=logging.DEBUG, format = '%(asctime)s %(name)s %(levelname)s %(message)s' )"
   ]
  },
  {
   "cell_type": "code",
   "execution_count": 4,
   "id": "f6ef74e9-2bd2-4307-87ff-e8d350c74c81",
   "metadata": {},
   "outputs": [],
   "source": [
    "logging.info(\"This is my info\")"
   ]
  },
  {
   "cell_type": "code",
   "execution_count": 5,
   "id": "ae1d92e8-545c-42e8-b385-2ea9056722e6",
   "metadata": {},
   "outputs": [],
   "source": [
    "l=[1,2,3,4,[4,5,6],\"sudh\",\"kumar\"]"
   ]
  },
  {
   "cell_type": "code",
   "execution_count": 12,
   "id": "91f86856-9479-49f9-824c-eb408bebbd37",
   "metadata": {},
   "outputs": [],
   "source": [
    "l1_int=[]\n",
    "l2_str=[]\n",
    "for i in l:\n",
    "    logging.info(\"This is the start of my first for loop {}\".format(l))\n",
    "    logging.info(\"This is the value of i am logging {}\".format(i))\n",
    "    if type(i) == list:\n",
    "        for j in i:\n",
    "            logging.info(\"Logging my j {j} and i is {i}\".format(i=i,j=j))\n",
    "            if type(j) == int:\n",
    "                l1_int.append(j)\n",
    "    elif type(i) == int:\n",
    "        l1_int.append(i)\n",
    "        \n",
    "    else:\n",
    "        if type(i) == str:\n",
    "            l2_str.append(i)\n",
    "logging.info(\"This is my final result with all int {l1},with all str{l2}\".format(l1=l1_int,l2=l2_str))"
   ]
  },
  {
   "cell_type": "code",
   "execution_count": 8,
   "id": "1c17eb22-a414-46b9-815e-ecd587a832c2",
   "metadata": {},
   "outputs": [
    {
     "data": {
      "text/plain": [
       "[1, 2, 3, 4, 4, 5, 6]"
      ]
     },
     "execution_count": 8,
     "metadata": {},
     "output_type": "execute_result"
    }
   ],
   "source": [
    "l1_int"
   ]
  },
  {
   "cell_type": "code",
   "execution_count": 9,
   "id": "946d074c-603c-4149-ad31-94a635acbf5c",
   "metadata": {},
   "outputs": [
    {
     "data": {
      "text/plain": [
       "['sudh', 'kumar']"
      ]
     },
     "execution_count": 9,
     "metadata": {},
     "output_type": "execute_result"
    }
   ],
   "source": [
    "l2_str"
   ]
  },
  {
   "cell_type": "code",
   "execution_count": null,
   "id": "888cff7e-3f70-48f7-a023-f4473f22d002",
   "metadata": {},
   "outputs": [],
   "source": []
  }
 ],
 "metadata": {
  "kernelspec": {
   "display_name": "Python 3 (ipykernel)",
   "language": "python",
   "name": "python3"
  },
  "language_info": {
   "codemirror_mode": {
    "name": "ipython",
    "version": 3
   },
   "file_extension": ".py",
   "mimetype": "text/x-python",
   "name": "python",
   "nbconvert_exporter": "python",
   "pygments_lexer": "ipython3",
   "version": "3.10.8"
  }
 },
 "nbformat": 4,
 "nbformat_minor": 5
}
