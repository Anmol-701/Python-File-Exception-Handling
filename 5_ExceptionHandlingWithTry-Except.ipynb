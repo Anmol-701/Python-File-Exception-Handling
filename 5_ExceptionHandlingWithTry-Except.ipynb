{
 "cells": [
  {
   "cell_type": "markdown",
   "id": "da6c38f0-3a5c-4b01-8e71-8dbae3c9bea1",
   "metadata": {},
   "source": [
    "## Exception Handling:\n",
    "  - If we don't know if our program will give an error or not then we use Exception Handling"
   ]
  },
  {
   "cell_type": "markdown",
   "id": "e0821c7a-58c9-42f7-9f85-659c746fb66f",
   "metadata": {},
   "source": [
    "### lets suppose we have a situation"
   ]
  },
  {
   "cell_type": "code",
   "execution_count": 1,
   "id": "a3cdeb07-c055-4f40-91a8-d5a85afd6569",
   "metadata": {},
   "outputs": [],
   "source": [
    "a =10"
   ]
  },
  {
   "cell_type": "code",
   "execution_count": 2,
   "id": "3fa1fa3b-48ec-4bc1-a187-a794f793c436",
   "metadata": {},
   "outputs": [],
   "source": [
    "# a/0  -->we know this will give an error"
   ]
  },
  {
   "cell_type": "code",
   "execution_count": 3,
   "id": "886c747b-db8b-4b5f-8e7b-caccba2c3ff7",
   "metadata": {},
   "outputs": [
    {
     "name": "stdout",
     "output_type": "stream",
     "text": [
      "There is some issue with my code division by zero\n"
     ]
    }
   ],
   "source": [
    "# In case of Exception handling we create try block\n",
    "a =10\n",
    "try:\n",
    "    a/0  \n",
    "except Exception as e:\n",
    "    print(\"There is some issue with my code\",e)\n"
   ]
  },
  {
   "cell_type": "markdown",
   "id": "9c4b3262-05ee-429e-8d36-7ff697824a3c",
   "metadata": {},
   "source": [
    "### In this situation it will not stop execution of next line."
   ]
  },
  {
   "cell_type": "code",
   "execution_count": 5,
   "id": "863fd122-1104-483e-8a78-48673207b674",
   "metadata": {},
   "outputs": [
    {
     "name": "stdout",
     "output_type": "stream",
     "text": [
      "This block will execute once try will execute itself without an Exception\n"
     ]
    }
   ],
   "source": [
    "# We also have one more block inside try-except  which is else block\n",
    "try:\n",
    "    f=open(\"test_1.txt\",'w')\n",
    "    f.write(\"This is my msg\")\n",
    "except Exception as e:\n",
    "    print(\"There is some issue with my code\",e)\n",
    "else:\n",
    "    f.close()\n",
    "    print(\"This block will execute once try will execute itself without an Exception\")"
   ]
  },
  {
   "cell_type": "code",
   "execution_count": 11,
   "id": "4a7ec8b7-fe40-4d6b-a5c5-3da06eb8e784",
   "metadata": {},
   "outputs": [
    {
     "name": "stdout",
     "output_type": "stream",
     "text": [
      "This block will execute once try will execute itself without an Exception\n",
      "This will execute always\n"
     ]
    }
   ],
   "source": [
    "# finally block --> It will always execute even if error is handled or not\n",
    "try:\n",
    "    f=open(\"test_1.txt\",'w')\n",
    "    f.write(\"This is my msg\")\n",
    "except Exception as e:\n",
    "    print(\"There is some issue with my code\",e)\n",
    "else:\n",
    "    f.close()\n",
    "    print(\"This block will execute once try will execute itself without an Exception\")\n",
    "finally:\n",
    "    print(\"This will execute always\")"
   ]
  },
  {
   "cell_type": "code",
   "execution_count": null,
   "id": "32f830e0-0281-4e1b-ac03-00a45d1418f3",
   "metadata": {},
   "outputs": [],
   "source": []
  }
 ],
 "metadata": {
  "kernelspec": {
   "display_name": "Python 3 (ipykernel)",
   "language": "python",
   "name": "python3"
  },
  "language_info": {
   "codemirror_mode": {
    "name": "ipython",
    "version": 3
   },
   "file_extension": ".py",
   "mimetype": "text/x-python",
   "name": "python",
   "nbconvert_exporter": "python",
   "pygments_lexer": "ipython3",
   "version": "3.10.8"
  }
 },
 "nbformat": 4,
 "nbformat_minor": 5
}
