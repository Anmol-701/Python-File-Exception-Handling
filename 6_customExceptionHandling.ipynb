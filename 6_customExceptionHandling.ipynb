{
 "cells": [
  {
   "cell_type": "code",
   "execution_count": 1,
   "id": "2e5061bd-fa86-4cf1-8b2e-eae12debe06c",
   "metadata": {},
   "outputs": [
    {
     "name": "stdin",
     "output_type": "stream",
     "text": [
      "Enter Your Age 22\n"
     ]
    }
   ],
   "source": [
    "age = int(input(\"Enter Your Age\"))"
   ]
  },
  {
   "cell_type": "code",
   "execution_count": 2,
   "id": "85b16e8c-8cb6-4555-888a-0f351111d10f",
   "metadata": {},
   "outputs": [],
   "source": [
    "#3 Inheriting Exception class\n",
    "class validateage (Exception):\n",
    "    def __init__(self,msg):\n",
    "        self.msg=msg"
   ]
  },
  {
   "cell_type": "code",
   "execution_count": 3,
   "id": "3b62624f-06c7-4b86-9e45-5d27ac995b58",
   "metadata": {},
   "outputs": [],
   "source": [
    "def validate_age(age):\n",
    "    if age<0:\n",
    "        raise validateage(\"age should not be lesser than zero\")\n",
    "    elif age>200:\n",
    "        raise validateage(\"Age is too high\")\n",
    "    else:\n",
    "        print(\"Age is valid\")"
   ]
  },
  {
   "cell_type": "code",
   "execution_count": 4,
   "id": "3033f246-5fe6-4ef2-a94a-4d8fb34f5a64",
   "metadata": {},
   "outputs": [
    {
     "name": "stdin",
     "output_type": "stream",
     "text": [
      "Enter your age -2\n"
     ]
    },
    {
     "name": "stdout",
     "output_type": "stream",
     "text": [
      "age should not be lesser than zero\n"
     ]
    }
   ],
   "source": [
    "try:\n",
    "    age =int(input(\"Enter your age\"))\n",
    "    validate_age(age)\n",
    "except validateage as e:\n",
    "    print(e)"
   ]
  },
  {
   "cell_type": "code",
   "execution_count": null,
   "id": "43cd57c2-8a2d-431b-a011-2a682f279d5b",
   "metadata": {},
   "outputs": [],
   "source": []
  }
 ],
 "metadata": {
  "kernelspec": {
   "display_name": "Python 3 (ipykernel)",
   "language": "python",
   "name": "python3"
  },
  "language_info": {
   "codemirror_mode": {
    "name": "ipython",
    "version": 3
   },
   "file_extension": ".py",
   "mimetype": "text/x-python",
   "name": "python",
   "nbconvert_exporter": "python",
   "pygments_lexer": "ipython3",
   "version": "3.10.8"
  }
 },
 "nbformat": 4,
 "nbformat_minor": 5
}
