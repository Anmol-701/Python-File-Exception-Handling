{
 "cells": [
  {
   "cell_type": "markdown",
   "id": "f33315ad-d52c-4f1c-89db-ad05ea35017a",
   "metadata": {},
   "source": [
    "### Use always a specific Exception"
   ]
  },
  {
   "cell_type": "code",
   "execution_count": 2,
   "id": "b0ee1100-a299-4899-aee3-a18d73b79d50",
   "metadata": {},
   "outputs": [
    {
     "name": "stdout",
     "output_type": "stream",
     "text": [
      "division by zero\n"
     ]
    }
   ],
   "source": [
    "try:\n",
    "    10/0\n",
    "except ZeroDivisionError as e:\n",
    "    print(e)"
   ]
  },
  {
   "cell_type": "markdown",
   "id": "0d724abb-7b96-4c71-81b1-a7297b250c14",
   "metadata": {},
   "source": [
    "### Print always a valid message"
   ]
  },
  {
   "cell_type": "code",
   "execution_count": 4,
   "id": "b2f45290-5257-4fde-b5d2-ab836db5ab23",
   "metadata": {},
   "outputs": [
    {
     "name": "stdout",
     "output_type": "stream",
     "text": [
      "This is my Zero division error i am handling division by zero\n"
     ]
    }
   ],
   "source": [
    "try:\n",
    "    10/0\n",
    "except ZeroDivisionError as e:\n",
    "    print(\"This is my Zero division error i am handling\",e)"
   ]
  },
  {
   "cell_type": "markdown",
   "id": "81e0f5d3-0258-4f7f-978c-6174fcf970e0",
   "metadata": {},
   "source": [
    "### Always Try to log"
   ]
  },
  {
   "cell_type": "code",
   "execution_count": 8,
   "id": "c3f30cf8-abcf-4560-9464-db38dec0cecf",
   "metadata": {},
   "outputs": [],
   "source": [
    "## This will store error in parmanent file:\n",
    "import logging\n",
    "logging.basicConfig(filename=\"error.log\", level =logging.ERROR)\n",
    "try:\n",
    "    10/0\n",
    "except ZeroDivisionError as e:\n",
    "    logging.error(\"This is my Zero division error i am handling {}\".format(e))"
   ]
  },
  {
   "cell_type": "markdown",
   "id": "e2f41a6c-840c-4a38-855e-e91412b59b46",
   "metadata": {},
   "source": [
    "### Always avoid to write a multiple exception handling"
   ]
  },
  {
   "cell_type": "code",
   "execution_count": 11,
   "id": "5e0a8d4d-9354-4479-81ee-73e66094d8d0",
   "metadata": {},
   "outputs": [],
   "source": [
    "try:\n",
    "    10/0\n",
    "except FileNotFoundError as e:\n",
    "    logging.error(\"This is my file not found {}\".format(e))\n",
    "except AttributeError as e:\n",
    "    logging.error(\"This is my Attirbute error {}\".format(e))\n",
    "except ZeroDivisionError as e:\n",
    "    logging.error(\"This is my Zero division error i am handling {}\".format(e))"
   ]
  },
  {
   "cell_type": "markdown",
   "id": "77335661-7d9f-482d-b58b-f867e8a70913",
   "metadata": {},
   "source": [
    "### Prepare a proper documentation"
   ]
  },
  {
   "cell_type": "markdown",
   "id": "fd9e60cb-e86c-4151-a210-1ced3bd7ec45",
   "metadata": {},
   "source": [
    "### Cleanup all the resources"
   ]
  },
  {
   "cell_type": "code",
   "execution_count": null,
   "id": "8d887cd3-8e95-4056-ba68-bb90b2253d83",
   "metadata": {},
   "outputs": [],
   "source": [
    "try:\n",
    "    with open(\"tst1.txt\",'w') as f:\n",
    "        f.write(\"This is my msg to file\")\n",
    "except FileNotFoundError as e:\n",
    "    logging.error(\"This is my file not found {}\".format(e))\n",
    "finally:\n",
    "    f.close()"
   ]
  }
 ],
 "metadata": {
  "kernelspec": {
   "display_name": "Python 3 (ipykernel)",
   "language": "python",
   "name": "python3"
  },
  "language_info": {
   "codemirror_mode": {
    "name": "ipython",
    "version": 3
   },
   "file_extension": ".py",
   "mimetype": "text/x-python",
   "name": "python",
   "nbconvert_exporter": "python",
   "pygments_lexer": "ipython3",
   "version": "3.10.8"
  }
 },
 "nbformat": 4,
 "nbformat_minor": 5
}
